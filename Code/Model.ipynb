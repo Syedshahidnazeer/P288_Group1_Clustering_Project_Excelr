{
 "cells": [
  {
   "cell_type": "code",
   "execution_count": 1,
   "metadata": {},
   "outputs": [],
   "source": [
    "import pandas as pd\n",
    "\n",
    "df_sqrt = pd.DataFrame({\n",
    "    'Normalization Technique': ['Sqrt', 'Sqrt', 'Sqrt','Sqrt'],\n",
    "    'Algorithm': ['K-Means', 'Agglomerative', 'DBSCAN','Guassian_Mixture_Model'],\n",
    "    'No.Of Clusters': ['2','2','0.9','9'],\n",
    "    'Silhouette Score': [0.7527538832604252,0.6698981971775968, -0.576612190898979,0.18153634226695156],\n",
    "    'Calinski-Harabasz Index': [13940.589722777166, 8814.990665890064, 79.66854942791124,5509.430499485822],\n",
    "    'Davies-Bouldin Index': [0.3458416130198806, 0.49953832852127467, 1.1962458897779922,1.6308770418457348]\n",
    "})"
   ]
  },
  {
   "cell_type": "code",
   "execution_count": 2,
   "metadata": {},
   "outputs": [
    {
     "data": {
      "text/html": [
       "<div>\n",
       "<style scoped>\n",
       "    .dataframe tbody tr th:only-of-type {\n",
       "        vertical-align: middle;\n",
       "    }\n",
       "\n",
       "    .dataframe tbody tr th {\n",
       "        vertical-align: top;\n",
       "    }\n",
       "\n",
       "    .dataframe thead th {\n",
       "        text-align: right;\n",
       "    }\n",
       "</style>\n",
       "<table border=\"1\" class=\"dataframe\">\n",
       "  <thead>\n",
       "    <tr style=\"text-align: right;\">\n",
       "      <th></th>\n",
       "      <th>Normalization Technique</th>\n",
       "      <th>Algorithm</th>\n",
       "      <th>No.Of Clusters</th>\n",
       "      <th>Silhouette Score</th>\n",
       "      <th>Calinski-Harabasz Index</th>\n",
       "      <th>Davies-Bouldin Index</th>\n",
       "    </tr>\n",
       "  </thead>\n",
       "  <tbody>\n",
       "    <tr>\n",
       "      <th>0</th>\n",
       "      <td>Sqrt</td>\n",
       "      <td>K-Means</td>\n",
       "      <td>2</td>\n",
       "      <td>0.752754</td>\n",
       "      <td>13940.589723</td>\n",
       "      <td>0.345842</td>\n",
       "    </tr>\n",
       "    <tr>\n",
       "      <th>1</th>\n",
       "      <td>Sqrt</td>\n",
       "      <td>Agglomerative</td>\n",
       "      <td>2</td>\n",
       "      <td>0.669898</td>\n",
       "      <td>8814.990666</td>\n",
       "      <td>0.499538</td>\n",
       "    </tr>\n",
       "    <tr>\n",
       "      <th>2</th>\n",
       "      <td>Sqrt</td>\n",
       "      <td>DBSCAN</td>\n",
       "      <td>0.9</td>\n",
       "      <td>-0.576612</td>\n",
       "      <td>79.668549</td>\n",
       "      <td>1.196246</td>\n",
       "    </tr>\n",
       "    <tr>\n",
       "      <th>3</th>\n",
       "      <td>Sqrt</td>\n",
       "      <td>Guassian_Mixture_Model</td>\n",
       "      <td>9</td>\n",
       "      <td>0.181536</td>\n",
       "      <td>5509.430499</td>\n",
       "      <td>1.630877</td>\n",
       "    </tr>\n",
       "  </tbody>\n",
       "</table>\n",
       "</div>"
      ],
      "text/plain": [
       "  Normalization Technique               Algorithm No.Of Clusters  \\\n",
       "0                    Sqrt                 K-Means              2   \n",
       "1                    Sqrt           Agglomerative              2   \n",
       "2                    Sqrt                  DBSCAN            0.9   \n",
       "3                    Sqrt  Guassian_Mixture_Model              9   \n",
       "\n",
       "   Silhouette Score  Calinski-Harabasz Index  Davies-Bouldin Index  \n",
       "0          0.752754             13940.589723              0.345842  \n",
       "1          0.669898              8814.990666              0.499538  \n",
       "2         -0.576612                79.668549              1.196246  \n",
       "3          0.181536              5509.430499              1.630877  "
      ]
     },
     "execution_count": 2,
     "metadata": {},
     "output_type": "execute_result"
    }
   ],
   "source": [
    "df_sqrt"
   ]
  }
 ],
 "metadata": {
  "kernelspec": {
   "display_name": "Python 3",
   "language": "python",
   "name": "python3"
  },
  "language_info": {
   "codemirror_mode": {
    "name": "ipython",
    "version": 3
   },
   "file_extension": ".py",
   "mimetype": "text/x-python",
   "name": "python",
   "nbconvert_exporter": "python",
   "pygments_lexer": "ipython3",
   "version": "3.11.5"
  },
  "orig_nbformat": 4
 },
 "nbformat": 4,
 "nbformat_minor": 2
}
